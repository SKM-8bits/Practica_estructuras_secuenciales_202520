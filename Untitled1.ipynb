{
  "nbformat": 4,
  "nbformat_minor": 0,
  "metadata": {
    "colab": {
      "provenance": [],
      "authorship_tag": "ABX9TyN/riWCQiNCx3DWSHQhPq8+",
      "include_colab_link": true
    },
    "kernelspec": {
      "name": "python3",
      "display_name": "Python 3"
    },
    "language_info": {
      "name": "python"
    }
  },
  "cells": [
    {
      "cell_type": "markdown",
      "metadata": {
        "id": "view-in-github",
        "colab_type": "text"
      },
      "source": [
        "<a href=\"https://colab.research.google.com/github/SKM-8bits/Practica_estructuras_secuenciales_202520/blob/main/Untitled1.ipynb\" target=\"_parent\"><img src=\"https://colab.research.google.com/assets/colab-badge.svg\" alt=\"Open In Colab\"/></a>"
      ]
    },
    {
      "cell_type": "markdown",
      "source": [
        "# Ejercicios de practica con estructuras secuenciales\n",
        "\n",
        "**Curso**: Fundamentos de programacion\n",
        "\n",
        "**Presentado por**: Samuel Kerguelen\n",
        "\n",
        "**Correo**: Samuel.kerguelen@upb.edu.co\n",
        "\n",
        "**Fecha**: 5/09/2025"
      ],
      "metadata": {
        "id": "M9eu8tRaSwmT"
      }
    },
    {
      "cell_type": "markdown",
      "source": [
        "## Informacion Personal\n",
        "Diseña un programa que muestre la siguiente informacion:\n",
        "- Tu nombre\n",
        "- Tu dirreccion, con cuidad, estado y codigo postal\n",
        "- Tu numero de telefono\n",
        "- Tu especializacion universitaria\n",
        "\n",
        "### Pseudocodigo\n",
        "```\n",
        "Program personal_info\n",
        "Start\n",
        "  Declare String name, address, city, state, zip, phone, career\n",
        "\n",
        "  Display \"Programa de inforamcion personal\"\n",
        "  Display \"Ingrese su nombre: \"\n",
        "  Input name\n",
        "  Display \"Ingrese su dirrecion: \"\n",
        "  Input address\n",
        "  Display \"Ingrese su ciudad: \"\n",
        "  Input city\n",
        "  Display \"Ingrese su estado: \"\n",
        "  Input State\n",
        "  Display \"Ingrese su codigo postal: \"\n",
        "  Input zip\n",
        "  Dispaly \"Ingrese su numero telefonico: \"\n",
        "  Input phone\n",
        "  Display \"ingrese su carrera: \"\n",
        "  Input career\n",
        "\n",
        "  Display \"Inforamcion personal\"\n",
        "  Display \"Nombre: \", name\n",
        "  Display \"Direccion: \", address\n",
        "  Display \"Ciudad: \", city\n",
        "  Display \"Estado: \", state\n",
        "  Display \"Codigo Postal: \", zip\n",
        "  Display \"Numero de Telefono: \", phone\n",
        "  Display \"Carrera: \", career\n",
        "End\n",
        "```"
      ],
      "metadata": {
        "id": "Ccq2YBskWcsK"
      }
    },
    {
      "cell_type": "code",
      "source": [
        "# Programa para Informacion Personal\n",
        "\n",
        "print(\"Programa de inforamcion personal\")\n",
        "\n",
        "# Variables\n",
        "name = input(\"Ingrese su nombre: \")\n",
        "address = input(\"Ingrese su dirrecion: \")\n",
        "city = input(\"Ingrese su ciudad: \")\n",
        "state = input(\"Ingrese su estado: \")\n",
        "zip = input(\"Ingrese su codigo postal: \")\n",
        "phone = input(\"Ingrese su numero telefonico: \")\n",
        "career = input(\"ingrese su carrera: \")\n",
        "\n",
        "print(\"Inforamcion personal\")\n",
        "print(\"Nombre: \", name)\n",
        "print(\"Direccion: \", address)\n",
        "print(\"Ciudad: \", city)\n",
        "print(\"Estado: \", state)\n",
        "print(\"Codigo Postal: \", zip)\n",
        "print(\"Numero de Telefono: \", phone)\n",
        "print(\"Carrera: \", career)"
      ],
      "metadata": {
        "colab": {
          "base_uri": "https://localhost:8080/"
        },
        "id": "A29V-KvEbcPF",
        "outputId": "a074da76-407a-41f9-f831-15d0062249a6"
      },
      "execution_count": 11,
      "outputs": [
        {
          "output_type": "stream",
          "name": "stdout",
          "text": [
            "Programa de inforamcion personal\n",
            "Ingrese su nombre: samuel\n",
            "Ingrese su dirrecion: calle 34\n",
            "Ingrese su ciudad: monteria\n",
            "Ingrese su estado: colombia\n",
            "Ingrese su codigo postal: 000\n",
            "Ingrese su numero telefonico: 203\n",
            "ingrese su carrera: ingeneria\n",
            "Inforamcion personal\n",
            "Nombre:  samuel\n",
            "Direccion:  calle 34\n",
            "Ciudad:  monteria\n",
            "Estado:  colombia\n",
            "Codigo Postal:  000\n",
            "Numero de Telefono:  203\n",
            "Carrera:  ingeneria\n"
          ]
        }
      ]
    },
    {
      "cell_type": "code",
      "source": [],
      "metadata": {
        "id": "qBvYTc50dh9m"
      },
      "execution_count": null,
      "outputs": []
    }
  ]
}